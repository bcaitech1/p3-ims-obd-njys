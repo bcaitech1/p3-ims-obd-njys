{
 "cells": [
  {
   "cell_type": "markdown",
   "metadata": {},
   "source": [
    "# Helper Functions"
   ]
  },
  {
   "cell_type": "code",
   "execution_count": 3,
   "metadata": {},
   "outputs": [
    {
     "output_type": "stream",
     "name": "stdout",
     "text": [
      "loading annotations into memory...\n",
      "Done (t=5.61s)\n",
      "creating index...\n",
      "index created!\n"
     ]
    }
   ],
   "source": [
    "import pandas as pd\n",
    "import numpy as np\n",
    "import json\n",
    "from tqdm import tqdm\n",
    "from pycocotools.coco import COCO\n",
    "from collections import OrderedDict\n",
    "\n",
    "def get_classname(classID, cats):\n",
    "    for i in range(len(cats)):\n",
    "        if cats[i]['id']==classID:\n",
    "            return cats[i]['name']\n",
    "    return \"None\"\n",
    "\n",
    "def get_bin(num_objects):\n",
    "    if num_objects <= 1:\n",
    "        return 1\n",
    "    elif num_objects <= 3:\n",
    "        return 2\n",
    "    elif num_objects <= 7:\n",
    "        return 3\n",
    "    elif num_objects <= 13:\n",
    "        return 4\n",
    "    else:\n",
    "        return 5\n",
    "\n",
    "dataset_path = \"/opt/ml/input/data\"\n",
    "anns_file_path = dataset_path + '/' + 'train_all.json'\n",
    "coco = COCO(anns_file_path)"
   ]
  },
  {
   "cell_type": "markdown",
   "metadata": {},
   "source": [
    "# Train DataFrame"
   ]
  },
  {
   "cell_type": "code",
   "execution_count": 4,
   "metadata": {},
   "outputs": [
    {
     "output_type": "stream",
     "name": "stdout",
     "text": [
      "loading annotations into memory...\n",
      "Done (t=5.67s)\n",
      "creating index...\n",
      "index created!\n",
      "100%|██████████| 3272/3272 [00:14<00:00, 230.79it/s]\n"
     ]
    }
   ],
   "source": [
    "alldata = pd.DataFrame()\n",
    "\n",
    "coco = COCO(anns_file_path)\n",
    "image_ids = coco.getImgIds()\n",
    "cat_ids = coco.getCatIds()\n",
    "cats = coco.loadCats(cat_ids)\n",
    "\n",
    "for image_id in tqdm(image_ids):\n",
    "    image_infos = coco.loadImgs(image_id)[0]\n",
    "    image_path = dataset_path + '/' + image_infos['file_name']\n",
    "    anns_ids = coco.getAnnIds(imgIds=image_id)\n",
    "    anns = coco.loadAnns(anns_ids)\n",
    "    bin = get_bin(len(anns))\n",
    "    info = OrderedDict()\n",
    "    info['image_id'] = image_id\n",
    "    info['path'] = image_path\n",
    "    info['num_objects'] = len(anns)\n",
    "    info['bin'] = bin\n",
    "    info['width'] = image_infos['width']\n",
    "    info['height'] = image_infos['height']\n",
    "    alldata = alldata.append(info,ignore_index=True)\n",
    "    "
   ]
  },
  {
   "cell_type": "code",
   "execution_count": 5,
   "metadata": {
    "tags": []
   },
   "outputs": [],
   "source": [
    "alldata['bin']=alldata['bin'].astype(np.int32)\n",
    "alldata['image_id']=alldata['image_id'].astype(np.int32)\n",
    "alldata['num_objects']=alldata['num_objects'].astype(np.int32)\n",
    "alldata['height']=alldata['height'].astype(np.int32)\n",
    "alldata['width']=alldata['width'].astype(np.int32)\n",
    "alldata = alldata[['image_id','path','width','height','num_objects','bin']]"
   ]
  },
  {
   "cell_type": "code",
   "execution_count": 6,
   "metadata": {},
   "outputs": [
    {
     "output_type": "execute_result",
     "data": {
      "text/plain": [
       "      image_id                                     path  width  height  \\\n",
       "0            0  /opt/ml/input/data/batch_01_vt/0002.jpg    512     512   \n",
       "1            1  /opt/ml/input/data/batch_01_vt/0003.jpg    512     512   \n",
       "2            2  /opt/ml/input/data/batch_01_vt/0005.jpg    512     512   \n",
       "3            3  /opt/ml/input/data/batch_01_vt/0006.jpg    512     512   \n",
       "4            4  /opt/ml/input/data/batch_01_vt/0007.jpg    512     512   \n",
       "...        ...                                      ...    ...     ...   \n",
       "3267      3267     /opt/ml/input/data/batch_03/0994.jpg    512     512   \n",
       "3268      3268     /opt/ml/input/data/batch_03/0995.jpg    512     512   \n",
       "3269      3269     /opt/ml/input/data/batch_03/0996.jpg    512     512   \n",
       "3270      3270     /opt/ml/input/data/batch_03/0997.jpg    512     512   \n",
       "3271      3271     /opt/ml/input/data/batch_03/1000.jpg    512     512   \n",
       "\n",
       "      num_objects  bin  \n",
       "0              17    5  \n",
       "1              14    5  \n",
       "2               1    1  \n",
       "3               2    2  \n",
       "4               2    2  \n",
       "...           ...  ...  \n",
       "3267            7    3  \n",
       "3268           14    5  \n",
       "3269            4    3  \n",
       "3270            8    4  \n",
       "3271            1    1  \n",
       "\n",
       "[3272 rows x 6 columns]"
      ],
      "text/html": "<div>\n<style scoped>\n    .dataframe tbody tr th:only-of-type {\n        vertical-align: middle;\n    }\n\n    .dataframe tbody tr th {\n        vertical-align: top;\n    }\n\n    .dataframe thead th {\n        text-align: right;\n    }\n</style>\n<table border=\"1\" class=\"dataframe\">\n  <thead>\n    <tr style=\"text-align: right;\">\n      <th></th>\n      <th>image_id</th>\n      <th>path</th>\n      <th>width</th>\n      <th>height</th>\n      <th>num_objects</th>\n      <th>bin</th>\n    </tr>\n  </thead>\n  <tbody>\n    <tr>\n      <th>0</th>\n      <td>0</td>\n      <td>/opt/ml/input/data/batch_01_vt/0002.jpg</td>\n      <td>512</td>\n      <td>512</td>\n      <td>17</td>\n      <td>5</td>\n    </tr>\n    <tr>\n      <th>1</th>\n      <td>1</td>\n      <td>/opt/ml/input/data/batch_01_vt/0003.jpg</td>\n      <td>512</td>\n      <td>512</td>\n      <td>14</td>\n      <td>5</td>\n    </tr>\n    <tr>\n      <th>2</th>\n      <td>2</td>\n      <td>/opt/ml/input/data/batch_01_vt/0005.jpg</td>\n      <td>512</td>\n      <td>512</td>\n      <td>1</td>\n      <td>1</td>\n    </tr>\n    <tr>\n      <th>3</th>\n      <td>3</td>\n      <td>/opt/ml/input/data/batch_01_vt/0006.jpg</td>\n      <td>512</td>\n      <td>512</td>\n      <td>2</td>\n      <td>2</td>\n    </tr>\n    <tr>\n      <th>4</th>\n      <td>4</td>\n      <td>/opt/ml/input/data/batch_01_vt/0007.jpg</td>\n      <td>512</td>\n      <td>512</td>\n      <td>2</td>\n      <td>2</td>\n    </tr>\n    <tr>\n      <th>...</th>\n      <td>...</td>\n      <td>...</td>\n      <td>...</td>\n      <td>...</td>\n      <td>...</td>\n      <td>...</td>\n    </tr>\n    <tr>\n      <th>3267</th>\n      <td>3267</td>\n      <td>/opt/ml/input/data/batch_03/0994.jpg</td>\n      <td>512</td>\n      <td>512</td>\n      <td>7</td>\n      <td>3</td>\n    </tr>\n    <tr>\n      <th>3268</th>\n      <td>3268</td>\n      <td>/opt/ml/input/data/batch_03/0995.jpg</td>\n      <td>512</td>\n      <td>512</td>\n      <td>14</td>\n      <td>5</td>\n    </tr>\n    <tr>\n      <th>3269</th>\n      <td>3269</td>\n      <td>/opt/ml/input/data/batch_03/0996.jpg</td>\n      <td>512</td>\n      <td>512</td>\n      <td>4</td>\n      <td>3</td>\n    </tr>\n    <tr>\n      <th>3270</th>\n      <td>3270</td>\n      <td>/opt/ml/input/data/batch_03/0997.jpg</td>\n      <td>512</td>\n      <td>512</td>\n      <td>8</td>\n      <td>4</td>\n    </tr>\n    <tr>\n      <th>3271</th>\n      <td>3271</td>\n      <td>/opt/ml/input/data/batch_03/1000.jpg</td>\n      <td>512</td>\n      <td>512</td>\n      <td>1</td>\n      <td>1</td>\n    </tr>\n  </tbody>\n</table>\n<p>3272 rows × 6 columns</p>\n</div>"
     },
     "metadata": {},
     "execution_count": 6
    }
   ],
   "source": [
    "pd.options.display.max_colwidth=100\n",
    "alldata"
   ]
  },
  {
   "cell_type": "code",
   "execution_count": 7,
   "metadata": {},
   "outputs": [],
   "source": [
    "alldata.to_csv(\"/opt/ml/code/alldata.csv\",index=0)"
   ]
  },
  {
   "source": [
    "# Test DataFrame"
   ],
   "cell_type": "markdown",
   "metadata": {}
  },
  {
   "cell_type": "code",
   "execution_count": 8,
   "metadata": {},
   "outputs": [
    {
     "output_type": "stream",
     "name": "stdout",
     "text": [
      "loading annotations into memory...\n",
      "Done (t=0.00s)\n",
      "creating index...\n",
      "index created!\n",
      "100%|██████████| 837/837 [00:03<00:00, 249.23it/s]\n"
     ]
    }
   ],
   "source": [
    "testdata = pd.DataFrame()\n",
    "\n",
    "dataset_path = \"/opt/ml/input/data\"\n",
    "anns_file_path = dataset_path + '/' + 'test.json'\n",
    "coco = COCO(anns_file_path)\n",
    "image_ids = coco.getImgIds()\n",
    "cat_ids = coco.getCatIds()\n",
    "cats = coco.loadCats(cat_ids)\n",
    "\n",
    "for image_id in tqdm(image_ids):\n",
    "    image_infos = coco.loadImgs(image_id)[0]\n",
    "    image_path = dataset_path + '/' + image_infos['file_name']\n",
    "    info = OrderedDict()\n",
    "    info['image_id'] = image_id\n",
    "    info['path'] = image_path\n",
    "    info['width'] = image_infos['width']\n",
    "    info['height'] = image_infos['height']\n",
    "    testdata = testdata.append(info,ignore_index=True)\n",
    "    "
   ]
  },
  {
   "cell_type": "code",
   "execution_count": 10,
   "metadata": {},
   "outputs": [],
   "source": [
    "testdata['image_id']=testdata['image_id'].astype(np.int32)\n",
    "testdata['height']=testdata['height'].astype(np.int32)\n",
    "testdata['width']=testdata['width'].astype(np.int32)\n",
    "testdata = testdata[['image_id','path','width','height']]"
   ]
  },
  {
   "cell_type": "code",
   "execution_count": 11,
   "metadata": {},
   "outputs": [
    {
     "output_type": "execute_result",
     "data": {
      "text/plain": [
       "     image_id                                     path  width  height\n",
       "0           0  /opt/ml/input/data/batch_01_vt/0021.jpg    512     512\n",
       "1           1  /opt/ml/input/data/batch_01_vt/0028.jpg    512     512\n",
       "2           2  /opt/ml/input/data/batch_01_vt/0031.jpg    512     512\n",
       "3           3  /opt/ml/input/data/batch_01_vt/0032.jpg    512     512\n",
       "4           4  /opt/ml/input/data/batch_01_vt/0070.jpg    512     512\n",
       "..        ...                                      ...    ...     ...\n",
       "832       832     /opt/ml/input/data/batch_03/0947.jpg    512     512\n",
       "833       833     /opt/ml/input/data/batch_03/0968.jpg    512     512\n",
       "834       834     /opt/ml/input/data/batch_03/0969.jpg    512     512\n",
       "835       835     /opt/ml/input/data/batch_03/0992.jpg    512     512\n",
       "836       836     /opt/ml/input/data/batch_03/0998.jpg    512     512\n",
       "\n",
       "[837 rows x 4 columns]"
      ],
      "text/html": "<div>\n<style scoped>\n    .dataframe tbody tr th:only-of-type {\n        vertical-align: middle;\n    }\n\n    .dataframe tbody tr th {\n        vertical-align: top;\n    }\n\n    .dataframe thead th {\n        text-align: right;\n    }\n</style>\n<table border=\"1\" class=\"dataframe\">\n  <thead>\n    <tr style=\"text-align: right;\">\n      <th></th>\n      <th>image_id</th>\n      <th>path</th>\n      <th>width</th>\n      <th>height</th>\n    </tr>\n  </thead>\n  <tbody>\n    <tr>\n      <th>0</th>\n      <td>0</td>\n      <td>/opt/ml/input/data/batch_01_vt/0021.jpg</td>\n      <td>512</td>\n      <td>512</td>\n    </tr>\n    <tr>\n      <th>1</th>\n      <td>1</td>\n      <td>/opt/ml/input/data/batch_01_vt/0028.jpg</td>\n      <td>512</td>\n      <td>512</td>\n    </tr>\n    <tr>\n      <th>2</th>\n      <td>2</td>\n      <td>/opt/ml/input/data/batch_01_vt/0031.jpg</td>\n      <td>512</td>\n      <td>512</td>\n    </tr>\n    <tr>\n      <th>3</th>\n      <td>3</td>\n      <td>/opt/ml/input/data/batch_01_vt/0032.jpg</td>\n      <td>512</td>\n      <td>512</td>\n    </tr>\n    <tr>\n      <th>4</th>\n      <td>4</td>\n      <td>/opt/ml/input/data/batch_01_vt/0070.jpg</td>\n      <td>512</td>\n      <td>512</td>\n    </tr>\n    <tr>\n      <th>...</th>\n      <td>...</td>\n      <td>...</td>\n      <td>...</td>\n      <td>...</td>\n    </tr>\n    <tr>\n      <th>832</th>\n      <td>832</td>\n      <td>/opt/ml/input/data/batch_03/0947.jpg</td>\n      <td>512</td>\n      <td>512</td>\n    </tr>\n    <tr>\n      <th>833</th>\n      <td>833</td>\n      <td>/opt/ml/input/data/batch_03/0968.jpg</td>\n      <td>512</td>\n      <td>512</td>\n    </tr>\n    <tr>\n      <th>834</th>\n      <td>834</td>\n      <td>/opt/ml/input/data/batch_03/0969.jpg</td>\n      <td>512</td>\n      <td>512</td>\n    </tr>\n    <tr>\n      <th>835</th>\n      <td>835</td>\n      <td>/opt/ml/input/data/batch_03/0992.jpg</td>\n      <td>512</td>\n      <td>512</td>\n    </tr>\n    <tr>\n      <th>836</th>\n      <td>836</td>\n      <td>/opt/ml/input/data/batch_03/0998.jpg</td>\n      <td>512</td>\n      <td>512</td>\n    </tr>\n  </tbody>\n</table>\n<p>837 rows × 4 columns</p>\n</div>"
     },
     "metadata": {},
     "execution_count": 11
    }
   ],
   "source": [
    "testdata"
   ]
  },
  {
   "cell_type": "code",
   "execution_count": 12,
   "metadata": {},
   "outputs": [],
   "source": [
    "testdata.to_csv(\"/opt/ml/code/testdata.csv\",index=0)"
   ]
  },
  {
   "cell_type": "code",
   "execution_count": 13,
   "metadata": {},
   "outputs": [],
   "source": [
    "testdata = pd.read_csv(\"/opt/ml/code/testdata.csv\")"
   ]
  },
  {
   "cell_type": "code",
   "execution_count": 14,
   "metadata": {},
   "outputs": [
    {
     "output_type": "execute_result",
     "data": {
      "text/plain": [
       "     image_id                                     path  width  height\n",
       "0           0  /opt/ml/input/data/batch_01_vt/0021.jpg    512     512\n",
       "1           1  /opt/ml/input/data/batch_01_vt/0028.jpg    512     512\n",
       "2           2  /opt/ml/input/data/batch_01_vt/0031.jpg    512     512\n",
       "3           3  /opt/ml/input/data/batch_01_vt/0032.jpg    512     512\n",
       "4           4  /opt/ml/input/data/batch_01_vt/0070.jpg    512     512\n",
       "..        ...                                      ...    ...     ...\n",
       "832       832     /opt/ml/input/data/batch_03/0947.jpg    512     512\n",
       "833       833     /opt/ml/input/data/batch_03/0968.jpg    512     512\n",
       "834       834     /opt/ml/input/data/batch_03/0969.jpg    512     512\n",
       "835       835     /opt/ml/input/data/batch_03/0992.jpg    512     512\n",
       "836       836     /opt/ml/input/data/batch_03/0998.jpg    512     512\n",
       "\n",
       "[837 rows x 4 columns]"
      ],
      "text/html": "<div>\n<style scoped>\n    .dataframe tbody tr th:only-of-type {\n        vertical-align: middle;\n    }\n\n    .dataframe tbody tr th {\n        vertical-align: top;\n    }\n\n    .dataframe thead th {\n        text-align: right;\n    }\n</style>\n<table border=\"1\" class=\"dataframe\">\n  <thead>\n    <tr style=\"text-align: right;\">\n      <th></th>\n      <th>image_id</th>\n      <th>path</th>\n      <th>width</th>\n      <th>height</th>\n    </tr>\n  </thead>\n  <tbody>\n    <tr>\n      <th>0</th>\n      <td>0</td>\n      <td>/opt/ml/input/data/batch_01_vt/0021.jpg</td>\n      <td>512</td>\n      <td>512</td>\n    </tr>\n    <tr>\n      <th>1</th>\n      <td>1</td>\n      <td>/opt/ml/input/data/batch_01_vt/0028.jpg</td>\n      <td>512</td>\n      <td>512</td>\n    </tr>\n    <tr>\n      <th>2</th>\n      <td>2</td>\n      <td>/opt/ml/input/data/batch_01_vt/0031.jpg</td>\n      <td>512</td>\n      <td>512</td>\n    </tr>\n    <tr>\n      <th>3</th>\n      <td>3</td>\n      <td>/opt/ml/input/data/batch_01_vt/0032.jpg</td>\n      <td>512</td>\n      <td>512</td>\n    </tr>\n    <tr>\n      <th>4</th>\n      <td>4</td>\n      <td>/opt/ml/input/data/batch_01_vt/0070.jpg</td>\n      <td>512</td>\n      <td>512</td>\n    </tr>\n    <tr>\n      <th>...</th>\n      <td>...</td>\n      <td>...</td>\n      <td>...</td>\n      <td>...</td>\n    </tr>\n    <tr>\n      <th>832</th>\n      <td>832</td>\n      <td>/opt/ml/input/data/batch_03/0947.jpg</td>\n      <td>512</td>\n      <td>512</td>\n    </tr>\n    <tr>\n      <th>833</th>\n      <td>833</td>\n      <td>/opt/ml/input/data/batch_03/0968.jpg</td>\n      <td>512</td>\n      <td>512</td>\n    </tr>\n    <tr>\n      <th>834</th>\n      <td>834</td>\n      <td>/opt/ml/input/data/batch_03/0969.jpg</td>\n      <td>512</td>\n      <td>512</td>\n    </tr>\n    <tr>\n      <th>835</th>\n      <td>835</td>\n      <td>/opt/ml/input/data/batch_03/0992.jpg</td>\n      <td>512</td>\n      <td>512</td>\n    </tr>\n    <tr>\n      <th>836</th>\n      <td>836</td>\n      <td>/opt/ml/input/data/batch_03/0998.jpg</td>\n      <td>512</td>\n      <td>512</td>\n    </tr>\n  </tbody>\n</table>\n<p>837 rows × 4 columns</p>\n</div>"
     },
     "metadata": {},
     "execution_count": 14
    }
   ],
   "source": [
    "testdata"
   ]
  },
  {
   "cell_type": "code",
   "execution_count": null,
   "metadata": {},
   "outputs": [],
   "source": []
  }
 ],
 "metadata": {
  "kernelspec": {
   "display_name": "Python 3",
   "language": "python",
   "name": "python3"
  },
  "language_info": {
   "codemirror_mode": {
    "name": "ipython",
    "version": 3
   },
   "file_extension": ".py",
   "mimetype": "text/x-python",
   "name": "python",
   "nbconvert_exporter": "python",
   "pygments_lexer": "ipython3",
   "version": "3.7.7"
  }
 },
 "nbformat": 4,
 "nbformat_minor": 4
}