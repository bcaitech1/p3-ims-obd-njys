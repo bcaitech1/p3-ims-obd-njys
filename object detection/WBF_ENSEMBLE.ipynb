{
 "cells": [
  {
   "cell_type": "code",
   "execution_count": 1,
   "id": "7be173ce-214f-4572-9dc1-2d483c5c0759",
   "metadata": {},
   "outputs": [],
   "source": [
    "# !pip install ensemble-boxes"
   ]
  },
  {
   "cell_type": "code",
   "execution_count": 2,
   "id": "d332d5f1-02d5-43eb-830a-12d8c85245e6",
   "metadata": {},
   "outputs": [],
   "source": [
    "import pandas as pd\n",
    "import os\n",
    "from glob import glob\n",
    "from ensemble_boxes import *\n",
    "import numpy as np"
   ]
  },
  {
   "cell_type": "code",
   "execution_count": 3,
   "id": "4e4386de-82a7-4c6c-b6af-f030cc4ae14f",
   "metadata": {},
   "outputs": [],
   "source": [
    "# 앙상블 폴더 생성\n",
    "os.makedirs('/opt/ml/code/Swin-Transformer-Object-Detection/submissions', exist_ok=True)\n",
    "os.makedirs('/opt/ml/code/Swin-Transformer-Object-Detection/submissions/before_ensemble', exist_ok=True)\n",
    "\n",
    "# 테스트 데이터 이미지 아이디\n",
    "image_ids = np.load('/opt/ml/code/Swin-Transformer-Object-Detection/image_ids.npy',allow_pickle = True)\n",
    "\n",
    "# csv 경로 모으기\n",
    "csv_paths = '/opt/ml/code/Swin-Transformer-Object-Detection/submissions/before_ensemble'\n",
    "csv_list = glob(csv_paths+\"/*\")\n",
    "\n",
    "# 데이터프레임 모으기\n",
    "dataframes = []\n",
    "for csv in csv_list:\n",
    "    dataframes.append(pd.read_csv(csv))\n"
   ]
  },
  {
   "cell_type": "code",
   "execution_count": 4,
   "id": "2ccddbca-ca4d-4a23-a1a3-8152ba4100eb",
   "metadata": {},
   "outputs": [],
   "source": [
    "# 이미지 1장의 바운딩 박스 문자열 Parse\n",
    "def get_data(pred:str):\n",
    "    \n",
    "    boxes = []\n",
    "    scores = []\n",
    "    labels = []\n",
    "    \n",
    "    pred = pred.strip()\n",
    "    pred = pred.split(\" \")\n",
    "    # label, score, x1, y1, x2, y2\n",
    "    for i,start in enumerate(range(0,len(pred),6)):\n",
    "        boxes.append(list(map(float,pred[start+2:start+6])))\n",
    "        scores.append(float(pred[start+1]))\n",
    "        labels.append(int(pred[start]))\n",
    "        \n",
    "    boxes = np.array(boxes) # [[x1,y1,x2,y2],[x1,y1,x2,y2],...]\n",
    "    scores = np.array(scores) # [s1,s2,...]\n",
    "    labels = np.array(labels) # [l1,l2,...]\n",
    "    \n",
    "    return boxes, scores, labels\n",
    "\n",
    "def make_prediction(boxes,scores,labels):\n",
    "    \n",
    "    \"\"\"\n",
    "     boxes, scores, labels: arrays\n",
    "    \"\"\"\n",
    "    \n",
    "    wbf_pred_str = ''\n",
    "    for box, score, label in zip(boxes,scores,labels):\n",
    "        wbf_pred_str += str(label) + ' '+ str(score) + ' ' + str(box[0]) + ' ' + \\\n",
    "                        str(box[1]) + ' ' + str(box[2]) + ' ' + str(box[3]) + ' '\n",
    "    \n",
    "    return wbf_pred_str"
   ]
  },
  {
   "cell_type": "code",
   "execution_count": 5,
   "id": "22dcd0d0-2d49-45a8-ae7c-5686abd9a362",
   "metadata": {},
   "outputs": [],
   "source": [
    "# skip_box_thr = 0.7\n",
    "skip_box_thr = 0.01\n",
    "iou_thr = 0.6\n",
    "# weights = [5,2,3,1] \n",
    "\n",
    "predictions = []\n",
    "file_names = []\n",
    "\n",
    "# 이미지 순회\n",
    "for i,image_id in enumerate(image_ids):\n",
    "    boxes_list = []\n",
    "    scores_list = []\n",
    "    labels_list = []\n",
    "    \n",
    "    # 모델 순회\n",
    "    for df in dataframes:        \n",
    "        pred = df['PredictionString'].iloc[i]\n",
    "        # arrays\n",
    "        boxes, scores, labels = get_data(pred) \n",
    "\n",
    "        # weighted_boxes_fusion은 [0,1]로 정규화된 좌표값을 받음\n",
    "        boxes = boxes/512.\n",
    "        boxes_list.append(boxes)\n",
    "        scores_list.append(scores)\n",
    "        labels_list.append(labels)\n",
    "\n",
    "    boxes, scores, labels = weighted_boxes_fusion(boxes_list,scores_list,labels_list,iou_thr=iou_thr,skip_box_thr=skip_box_thr)\n",
    "    boxes = boxes*512\n",
    "    wbf_pred_str = make_prediction(boxes,scores,labels)\n",
    "    predictions.append(wbf_pred_str)\n"
   ]
  },
  {
   "cell_type": "code",
   "execution_count": 6,
   "id": "5557f5ec-6cc0-45ca-8aa3-6b9d61589640",
   "metadata": {},
   "outputs": [
    {
     "data": {
      "text/html": [
       "<div>\n",
       "<style scoped>\n",
       "    .dataframe tbody tr th:only-of-type {\n",
       "        vertical-align: middle;\n",
       "    }\n",
       "\n",
       "    .dataframe tbody tr th {\n",
       "        vertical-align: top;\n",
       "    }\n",
       "\n",
       "    .dataframe thead th {\n",
       "        text-align: right;\n",
       "    }\n",
       "</style>\n",
       "<table border=\"1\" class=\"dataframe\">\n",
       "  <thead>\n",
       "    <tr style=\"text-align: right;\">\n",
       "      <th></th>\n",
       "      <th>PredictionString</th>\n",
       "      <th>image_id</th>\n",
       "    </tr>\n",
       "  </thead>\n",
       "  <tbody>\n",
       "    <tr>\n",
       "      <th>0</th>\n",
       "      <td>8 0.9754363 173.20209 235.67116 463.73138 472....</td>\n",
       "      <td>batch_01_vt/0021.jpg</td>\n",
       "    </tr>\n",
       "    <tr>\n",
       "      <th>1</th>\n",
       "      <td>8 0.977294921875 159.12901306152344 58.1549072...</td>\n",
       "      <td>batch_01_vt/0028.jpg</td>\n",
       "    </tr>\n",
       "    <tr>\n",
       "      <th>2</th>\n",
       "      <td>1 0.9798071384429932 71.68167114257812 169.063...</td>\n",
       "      <td>batch_01_vt/0031.jpg</td>\n",
       "    </tr>\n",
       "    <tr>\n",
       "      <th>3</th>\n",
       "      <td>8 0.9067034721374512 102.75265502929688 122.10...</td>\n",
       "      <td>batch_01_vt/0032.jpg</td>\n",
       "    </tr>\n",
       "    <tr>\n",
       "      <th>4</th>\n",
       "      <td>8 0.993256688117981 150.30381774902344 0.27757...</td>\n",
       "      <td>batch_01_vt/0070.jpg</td>\n",
       "    </tr>\n",
       "  </tbody>\n",
       "</table>\n",
       "</div>"
      ],
      "text/plain": [
       "                                    PredictionString              image_id\n",
       "0  8 0.9754363 173.20209 235.67116 463.73138 472....  batch_01_vt/0021.jpg\n",
       "1  8 0.977294921875 159.12901306152344 58.1549072...  batch_01_vt/0028.jpg\n",
       "2  1 0.9798071384429932 71.68167114257812 169.063...  batch_01_vt/0031.jpg\n",
       "3  8 0.9067034721374512 102.75265502929688 122.10...  batch_01_vt/0032.jpg\n",
       "4  8 0.993256688117981 150.30381774902344 0.27757...  batch_01_vt/0070.jpg"
      ]
     },
     "execution_count": 6,
     "metadata": {},
     "output_type": "execute_result"
    }
   ],
   "source": [
    "wbf_df = pd.DataFrame()\n",
    "wbf_df['PredictionString'] = predictions\n",
    "wbf_df['image_id'] = image_ids\n",
    "\n",
    "csv_name = 'wbf_kyubin.csv'\n",
    "\n",
    "save_dir = '/opt/ml/code/Swin-Transformer-Object-Detection/submissions'\n",
    "\n",
    "wbf_df.to_csv(os.path.join(save_dir, csv_name), index=None)\n",
    "wbf_df.head()"
   ]
  },
  {
   "cell_type": "code",
   "execution_count": null,
   "id": "75c04226-5959-48d2-b293-c1c3f92e72de",
   "metadata": {},
   "outputs": [],
   "source": []
  },
  {
   "cell_type": "code",
   "execution_count": null,
   "id": "7d74dec5-c030-4b9e-808a-0a5d6dc5ad75",
   "metadata": {},
   "outputs": [],
   "source": []
  },
  {
   "cell_type": "code",
   "execution_count": null,
   "id": "7bea461e-5599-4d86-b038-8d6658eef403",
   "metadata": {},
   "outputs": [],
   "source": []
  }
 ],
 "metadata": {
  "kernelspec": {
   "display_name": "Python 3",
   "language": "python",
   "name": "python3"
  },
  "language_info": {
   "codemirror_mode": {
    "name": "ipython",
    "version": 3
   },
   "file_extension": ".py",
   "mimetype": "text/x-python",
   "name": "python",
   "nbconvert_exporter": "python",
   "pygments_lexer": "ipython3",
   "version": "3.7.7"
  }
 },
 "nbformat": 4,
 "nbformat_minor": 5
}
